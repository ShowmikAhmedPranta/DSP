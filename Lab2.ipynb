{
  "nbformat": 4,
  "nbformat_minor": 0,
  "metadata": {
    "colab": {
      "provenance": []
    },
    "kernelspec": {
      "name": "python3",
      "display_name": "Python 3"
    },
    "language_info": {
      "name": "python"
    }
  },
  "cells": [
    {
      "cell_type": "code",
      "execution_count": null,
      "metadata": {
        "id": "pYMgLUesJlUJ"
      },
      "outputs": [],
      "source": [
        "#Folding"
      ]
    },
    {
      "cell_type": "code",
      "source": [
        "import numpy as np, pandas as pd,random, matplotlib.pyplot as plt "
      ],
      "metadata": {
        "id": "4191t12uJxXX"
      },
      "execution_count": null,
      "outputs": []
    },
    {
      "cell_type": "code",
      "source": [
        "h=[16.0,4.0,3.5,3.5,4.0,6.0]\n",
        "ht=[-2,-1,0,1,2,3]\n",
        "\n",
        "hn={i:j for i,j in zip(ht,h)}"
      ],
      "metadata": {
        "id": "MZKoRL8EJ2Dl"
      },
      "execution_count": null,
      "outputs": []
    },
    {
      "cell_type": "code",
      "source": [
        "def folding(hn):\n",
        "  fhn={}\n",
        "  for i in hn:\n",
        "    fhn[-i]=hn[i]\n",
        "  return fhn"
      ],
      "metadata": {
        "id": "oCfoVuI2KBng"
      },
      "execution_count": null,
      "outputs": []
    },
    {
      "cell_type": "code",
      "source": [
        "hn"
      ],
      "metadata": {
        "colab": {
          "base_uri": "https://localhost:8080/"
        },
        "id": "lE8e2ETWKGMC",
        "outputId": "8197961d-d0fe-4f4b-fe75-2d8745184a6c"
      },
      "execution_count": null,
      "outputs": [
        {
          "output_type": "execute_result",
          "data": {
            "text/plain": [
              "{-2: 16.0, -1: 4.0, 0: 3.5, 1: 3.5, 2: 4.0, 3: 6.0}"
            ]
          },
          "metadata": {},
          "execution_count": 26
        }
      ]
    },
    {
      "cell_type": "code",
      "source": [
        "hn_fold=folding(hn)"
      ],
      "metadata": {
        "id": "ErpPbWSuKIj2"
      },
      "execution_count": null,
      "outputs": []
    },
    {
      "cell_type": "code",
      "source": [
        "hn_fold"
      ],
      "metadata": {
        "colab": {
          "base_uri": "https://localhost:8080/"
        },
        "id": "oNnRyCR5KOE7",
        "outputId": "2aa67c70-e975-4277-f0af-9f41f7f93b9b"
      },
      "execution_count": null,
      "outputs": [
        {
          "output_type": "execute_result",
          "data": {
            "text/plain": [
              "{2: 16.0, 1: 4.0, 0: 3.5, -1: 3.5, -2: 4.0, -3: 6.0}"
            ]
          },
          "metadata": {},
          "execution_count": 28
        }
      ]
    },
    {
      "cell_type": "code",
      "source": [
        "x_f=[i for i in hn.keys()]\n",
        "plt.stem(ht,h)\n",
        "plt.xticks(ht)\n",
        "plt.yticks(h)\n",
        "plt.title('Without folding')\n",
        "plt.show()\n",
        "\n",
        "plt.stem(list(hn_fold.keys()),list(hn_fold.values()))\n",
        "plt.title('After folding')\n",
        "plt.show()\n"
      ],
      "metadata": {
        "colab": {
          "base_uri": "https://localhost:8080/",
          "height": 634
        },
        "id": "O_Y2VEx4PCT1",
        "outputId": "4d4f11f8-e91c-4814-958d-a519b3baa8b5"
      },
      "execution_count": null,
      "outputs": [
        {
          "output_type": "stream",
          "name": "stderr",
          "text": [
            "<ipython-input-29-e841394a14a9>:2: UserWarning: In Matplotlib 3.3 individual lines on a stem plot will be added as a LineCollection instead of individual lines. This significantly improves the performance of a stem plot. To remove this warning and switch to the new behaviour, set the \"use_line_collection\" keyword argument to True.\n",
            "  plt.stem(ht,h)\n"
          ]
        },
        {
          "output_type": "display_data",
          "data": {
            "text/plain": [
              "<Figure size 432x288 with 1 Axes>"
            ],
            "image/png": "[encoded data removed]"
          },
          "metadata": {
            "needs_background": "light"
          }
        },
        {
          "output_type": "stream",
          "name": "stderr",
          "text": [
            "<ipython-input-29-e841394a14a9>:8: UserWarning: In Matplotlib 3.3 individual lines on a stem plot will be added as a LineCollection instead of individual lines. This significantly improves the performance of a stem plot. To remove this warning and switch to the new behaviour, set the \"use_line_collection\" keyword argument to True.\n",
            "  plt.stem(list(hn_fold.keys()),list(hn_fold.values()))\n"
          ]
        },
        {
          "output_type": "display_data",
          "data": {
            "text/plain": [
              "<Figure size 432x288 with 1 Axes>"
            ],
            "image/png": "[encoded data removed]"
          },
          "metadata": {
            "needs_background": "light"
          }
        }
      ]
    },
    {
      "cell_type": "code",
      "source": [
        "#shifting"
      ],
      "metadata": {
        "id": "wgbld74SKRqa"
      },
      "execution_count": null,
      "outputs": []
    },
    {
      "cell_type": "code",
      "source": [
        "import numpy as np, pandas as pd,random, matplotlib.pyplot as plt"
      ],
      "metadata": {
        "id": "JL7XEqyBKjWg"
      },
      "execution_count": null,
      "outputs": []
    },
    {
      "cell_type": "code",
      "source": [
        "h=[0,6.0,4.0,3.5,3.5,4.0,6.0,0]\n",
        "ht=[-3,-2,-1,0,1,2,3,4]\n",
        "\n",
        "hn={i:j for i,j in zip(ht,h)}"
      ],
      "metadata": {
        "id": "h3WbC9r-KpAZ"
      },
      "execution_count": null,
      "outputs": []
    },
    {
      "cell_type": "code",
      "source": [
        "hn_pd=pd.Series(hn)"
      ],
      "metadata": {
        "id": "4AjHVI1fKu34"
      },
      "execution_count": null,
      "outputs": []
    },
    {
      "cell_type": "code",
      "source": [
        "hn_pd"
      ],
      "metadata": {
        "colab": {
          "base_uri": "https://localhost:8080/"
        },
        "id": "ceTtHSByLOli",
        "outputId": "5896c82a-2ec4-45c4-b357-4be16baa240c"
      },
      "execution_count": null,
      "outputs": [
        {
          "output_type": "execute_result",
          "data": {
            "text/plain": [
              "-3    0.0\n",
              "-2    6.0\n",
              "-1    4.0\n",
              " 0    3.5\n",
              " 1    3.5\n",
              " 2    4.0\n",
              " 3    6.0\n",
              " 4    0.0\n",
              "dtype: float64"
            ]
          },
          "metadata": {},
          "execution_count": 34
        }
      ]
    },
    {
      "cell_type": "code",
      "source": [
        "left_shift=hn_pd.copy().shift(-1,fill_value=0)"
      ],
      "metadata": {
        "id": "3yk2fEQOLQDX"
      },
      "execution_count": null,
      "outputs": []
    },
    {
      "cell_type": "code",
      "source": [
        "left_shift"
      ],
      "metadata": {
        "colab": {
          "base_uri": "https://localhost:8080/"
        },
        "id": "yAlht7xrLc4p",
        "outputId": "9106e7bb-5445-47f1-9ae3-5170a75b2498"
      },
      "execution_count": null,
      "outputs": [
        {
          "output_type": "execute_result",
          "data": {
            "text/plain": [
              "-3    6.0\n",
              "-2    4.0\n",
              "-1    3.5\n",
              " 0    3.5\n",
              " 1    4.0\n",
              " 2    6.0\n",
              " 3    0.0\n",
              " 4    0.0\n",
              "dtype: float64"
            ]
          },
          "metadata": {},
          "execution_count": 36
        }
      ]
    },
    {
      "cell_type": "code",
      "source": [
        "right_shift=hn_pd.copy().shift(1,fill_value=0)"
      ],
      "metadata": {
        "id": "_TzG9s2JLe0d"
      },
      "execution_count": null,
      "outputs": []
    },
    {
      "cell_type": "code",
      "source": [
        "right_shift"
      ],
      "metadata": {
        "colab": {
          "base_uri": "https://localhost:8080/"
        },
        "id": "01MPylmIMu0b",
        "outputId": "2c8d7333-3bee-4013-db12-adbf98b2f6a3"
      },
      "execution_count": null,
      "outputs": [
        {
          "output_type": "execute_result",
          "data": {
            "text/plain": [
              "-3    0.0\n",
              "-2    0.0\n",
              "-1    6.0\n",
              " 0    4.0\n",
              " 1    3.5\n",
              " 2    3.5\n",
              " 3    4.0\n",
              " 4    6.0\n",
              "dtype: float64"
            ]
          },
          "metadata": {},
          "execution_count": 38
        }
      ]
    },
    {
      "cell_type": "code",
      "source": [
        "plt.stem(ht,h)\n",
        "plt.xticks(ht)\n",
        "plt.yticks(h)\n",
        "plt.title('without shifting')\n",
        "plt.show()"
      ],
      "metadata": {
        "colab": {
          "base_uri": "https://localhost:8080/",
          "height": 336
        },
        "id": "KkpNBINgMxAQ",
        "outputId": "014e8333-7675-43f8-8750-680fc8cc1c9e"
      },
      "execution_count": null,
      "outputs": [
        {
          "output_type": "stream",
          "name": "stderr",
          "text": [
            "<ipython-input-39-cf62a3791aa1>:1: UserWarning: In Matplotlib 3.3 individual lines on a stem plot will be added as a LineCollection instead of individual lines. This significantly improves the performance of a stem plot. To remove this warning and switch to the new behaviour, set the \"use_line_collection\" keyword argument to True.\n",
            "  plt.stem(ht,h)\n"
          ]
        },
        {
          "output_type": "display_data",
          "data": {
            "text/plain": [
              "<Figure size 432x288 with 1 Axes>"
            ],
            "image/png": "[encoded data removed]"
          },
          "metadata": {
            "needs_background": "light"
          }
        }
      ]
    },
    {
      "cell_type": "code",
      "source": [
        "plt.stem(ht,left_shift.to_list())\n",
        "plt.xticks(ht)\n",
        "plt.yticks(h)\n",
        "plt.title('left shifting')\n",
        "plt.show()"
      ],
      "metadata": {
        "colab": {
          "base_uri": "https://localhost:8080/",
          "height": 336
        },
        "id": "hnHeVBamNkeC",
        "outputId": "e4c86b12-8427-49f0-d204-4e5f3f8e4f35"
      },
      "execution_count": null,
      "outputs": [
        {
          "output_type": "stream",
          "name": "stderr",
          "text": [
            "<ipython-input-40-341f65532a2b>:1: UserWarning: In Matplotlib 3.3 individual lines on a stem plot will be added as a LineCollection instead of individual lines. This significantly improves the performance of a stem plot. To remove this warning and switch to the new behaviour, set the \"use_line_collection\" keyword argument to True.\n",
            "  plt.stem(ht,left_shift.to_list())\n"
          ]
        },
        {
          "output_type": "display_data",
          "data": {
            "text/plain": [
              "<Figure size 432x288 with 1 Axes>"
            ],
            "image/png": "[encoded data removed]"
          },
          "metadata": {
            "needs_background": "light"
          }
        }
      ]
    },
    {
      "cell_type": "code",
      "source": [
        "plt.stem(ht,right_shift.to_list())\n",
        "plt.xticks(ht)\n",
        "plt.yticks(h)\n",
        "plt.title('right shifting')\n",
        "plt.show()"
      ],
      "metadata": {
        "id": "p18Mq8CIN-aQ",
        "colab": {
          "base_uri": "https://localhost:8080/",
          "height": 336
        },
        "outputId": "2e62ea0e-5f3e-4d11-bbcc-61b530d26fd7"
      },
      "execution_count": null,
      "outputs": [
        {
          "output_type": "stream",
          "name": "stderr",
          "text": [
            "<ipython-input-41-63b3bd0fe080>:1: UserWarning: In Matplotlib 3.3 individual lines on a stem plot will be added as a LineCollection instead of individual lines. This significantly improves the performance of a stem plot. To remove this warning and switch to the new behaviour, set the \"use_line_collection\" keyword argument to True.\n",
            "  plt.stem(ht,right_shift.to_list())\n"
          ]
        },
        {
          "output_type": "display_data",
          "data": {
            "text/plain": [
              "<Figure size 432x288 with 1 Axes>"
            ],
            "image/png": "[encoded data removed]"
          },
          "metadata": {
            "needs_background": "light"
          }
        }
      ]
    }
  ]
}